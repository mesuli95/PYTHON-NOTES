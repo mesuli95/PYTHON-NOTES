{
 "cells": [
  {
   "cell_type": "code",
   "execution_count": 1,
   "id": "b44269a6-fc4f-4006-a8a2-1284a5c20715",
   "metadata": {},
   "outputs": [
    {
     "name": "stdout",
     "output_type": "stream",
     "text": [
      "[1, 2, 3, 4]\n"
     ]
    }
   ],
   "source": [
    "my_list = [1,2,3,4]\n",
    "print(my_list)"
   ]
  },
  {
   "cell_type": "code",
   "execution_count": 2,
   "id": "36707fbf-67ef-45ed-9b18-66fc0e3a95cd",
   "metadata": {},
   "outputs": [
    {
     "name": "stdout",
     "output_type": "stream",
     "text": [
      "banana\n",
      "apple\n",
      "peach\n"
     ]
    }
   ],
   "source": [
    "fruits = [\"banana\",\"apple\",\"peach\"] #listing number of fruits\n",
    "x, y, z = fruits\n",
    "print(x)\n",
    "print(y)\n",
    "print(z)"
   ]
  },
  {
   "cell_type": "code",
   "execution_count": 3,
   "id": "ef63e4c6-f51d-446d-93ef-d74f86098d98",
   "metadata": {},
   "outputs": [
    {
     "name": "stdout",
     "output_type": "stream",
     "text": [
      "soccer\n",
      "rugby\n",
      "netball\n"
     ]
    }
   ],
   "source": [
    "sports = [\"soccer\",\"rugby\",\"netball\"] # list number of sports\n",
    "x, y, z = sports\n",
    "print(x)\n",
    "print(y)\n",
    "print(z)"
   ]
  },
  {
   "cell_type": "code",
   "execution_count": 4,
   "id": "cb1bd390-d195-4ea2-9f50-0cbbeb859dac",
   "metadata": {},
   "outputs": [
    {
     "name": "stdout",
     "output_type": "stream",
     "text": [
      "orange\n"
     ]
    }
   ],
   "source": [
    "x = y = z = \"orange\" # assigning same variable"
   ]
  },
  {
   "cell_type": "code",
   "execution_count": 1,
   "id": "58cb43bd-e816-498c-9347-750d7ad0ba32",
   "metadata": {},
   "outputs": [
    {
     "name": "stdout",
     "output_type": "stream",
     "text": [
      "{'table', 'bed', 'chair'}\n"
     ]
    }
   ],
   "source": [
    "thisset = {\"bed\",\"chair\",\"table\"} #this is tuple\n",
    "print(thisset)"
   ]
  },
  {
   "cell_type": "code",
   "execution_count": 3,
   "id": "2567e677-ccf9-4e02-a5c3-e14a6afecad5",
   "metadata": {},
   "outputs": [
    {
     "name": "stdout",
     "output_type": "stream",
     "text": [
      "('soccer', 'tennis', 'rugby')\n"
     ]
    }
   ],
   "source": [
    "# creating a tuple\n",
    "thistuple = (\"soccer\",\"tennis\",\"rugby\")\n",
    "print(thistuple)"
   ]
  },
  {
   "cell_type": "code",
   "execution_count": 5,
   "id": "c2e51922-7ea8-4d5e-8b3f-9b8be217d2bd",
   "metadata": {},
   "outputs": [
    {
     "name": "stdout",
     "output_type": "stream",
     "text": [
      "tennis\n"
     ]
    }
   ],
   "source": [
    "thistuple = (\"soccer\",\"tennis\",\"rugby\") #print second item in tuple\n",
    "print(thistuple[1])"
   ]
  },
  {
   "cell_type": "code",
   "execution_count": 6,
   "id": "f65dbf28-db93-4bac-b233-34f20c5be546",
   "metadata": {},
   "outputs": [
    {
     "name": "stdout",
     "output_type": "stream",
     "text": [
      "khazi\n"
     ]
    }
   ],
   "source": [
    "names = (\"mesuli\",\"lindelani\",\"zanda\",\"babalwa\",\"khazi\") #print the last item of the tuple\n",
    "print(names[-1])"
   ]
  },
  {
   "cell_type": "code",
   "execution_count": 7,
   "id": "764eff1f-5c03-4f39-b203-cd40c9181182",
   "metadata": {},
   "outputs": [
    {
     "name": "stdout",
     "output_type": "stream",
     "text": [
      "babalwa\n"
     ]
    }
   ],
   "source": [
    "names =(\"mesuli\",\"lindelani\",\"zanda\",\"babalwa\",\"khazi\") #print the second last item of the tuple\n",
    "print(names[-2])"
   ]
  },
  {
   "cell_type": "code",
   "execution_count": 10,
   "id": "b840a870-5ce9-4fe9-aa1c-cb857f005737",
   "metadata": {},
   "outputs": [
    {
     "name": "stdout",
     "output_type": "stream",
     "text": [
      "('hp', 'mecer', 'dell')\n"
     ]
    }
   ],
   "source": [
    "laptopNames = (\"acer\", \"lenovo\",\"hp\",\"mecer\",\"dell\",\"hisense\") #return third, fourth and fifth item\n",
    "print(laptopNames[2:5])"
   ]
  },
  {
   "cell_type": "code",
   "execution_count": 12,
   "id": "7c6ee3bf-7a07-4b60-a7f4-f86e6365d24c",
   "metadata": {},
   "outputs": [
    {
     "name": "stdout",
     "output_type": "stream",
     "text": [
      "('Cape town', 'Bellville', 'Athlone')\n"
     ]
    }
   ],
   "source": [
    "placeNames = (\"Salt river\",\"Woodstock\",\"Cape town\",\"Bellville\",\"Athlone\") #return the item from \"Bellville\" to the end\n",
    "print(placeNames[2:])"
   ]
  },
  {
   "cell_type": "code",
   "execution_count": null,
   "id": "8d94c530-5484-407f-a6b8-944065a9f778",
   "metadata": {},
   "outputs": [],
   "source": []
  }
 ],
 "metadata": {
  "kernelspec": {
   "display_name": "Python 3 (ipykernel)",
   "language": "python",
   "name": "python3"
  },
  "language_info": {
   "codemirror_mode": {
    "name": "ipython",
    "version": 3
   },
   "file_extension": ".py",
   "mimetype": "text/x-python",
   "name": "python",
   "nbconvert_exporter": "python",
   "pygments_lexer": "ipython3",
   "version": "3.12.2"
  }
 },
 "nbformat": 4,
 "nbformat_minor": 5
}
