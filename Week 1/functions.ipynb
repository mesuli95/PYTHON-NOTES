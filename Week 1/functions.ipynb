{
 "cells": [
  {
   "cell_type": "code",
   "execution_count": 2,
   "metadata": {},
   "outputs": [
    {
     "name": "stdout",
     "output_type": "stream",
     "text": [
      "My name is Mesuli Makeleni\n"
     ]
    }
   ],
   "source": [
    "def my_function():\n",
    "    print(\"My name is Mesuli Makeleni\")\n",
    "my_function()"
   ]
  },
  {
   "cell_type": "code",
   "execution_count": 4,
   "metadata": {},
   "outputs": [
    {
     "name": "stdout",
     "output_type": "stream",
     "text": [
      "Liyolatha Makeleni\n",
      "Hlumelo Makeleni\n",
      "Othalive Makeleni\n"
     ]
    }
   ],
   "source": [
    "def my_function(Name):\n",
    "    print(Name + \"Makeleni\")\n",
    "my_function(\"Liyolatha \")\n",
    "my_function(\"Hlumelo \")\n",
    "my_function(\"Othalive \")"
   ]
  },
  {
   "cell_type": "code",
   "execution_count": 6,
   "metadata": {},
   "outputs": [
    {
     "name": "stdout",
     "output_type": "stream",
     "text": [
      "076 094 1475\n",
      "makelenimesuli@gmail.com\n"
     ]
    }
   ],
   "source": [
    "def my_function(contactDetails):\n",
    "    print(contactDetails)\n",
    "my_function(\"076 094 1475\")\n",
    "my_function(\"makelenimesuli@gmail.com\")"
   ]
  },
  {
   "cell_type": "code",
   "execution_count": 8,
   "metadata": {},
   "outputs": [
    {
     "data": {
      "text/plain": [
       "40"
      ]
     },
     "execution_count": 8,
     "metadata": {},
     "output_type": "execute_result"
    }
   ],
   "source": [
    "def calcul(var):\n",
    "    return 8* var\n",
    "calcul(5)"
   ]
  },
  {
   "cell_type": "code",
   "execution_count": 3,
   "metadata": {},
   "outputs": [
    {
     "data": {
      "text/plain": [
       "150"
      ]
     },
     "execution_count": 3,
     "metadata": {},
     "output_type": "execute_result"
    }
   ],
   "source": [
    "def add(num1, num2):\n",
    "    return num1 + num2\n",
    "add(100, 50)"
   ]
  },
  {
   "cell_type": "code",
   "execution_count": 4,
   "metadata": {},
   "outputs": [
    {
     "data": {
      "text/plain": [
       "900"
      ]
     },
     "execution_count": 4,
     "metadata": {},
     "output_type": "execute_result"
    }
   ],
   "source": [
    "def additions(num1, num2):\n",
    "    return num1 + num2\n",
    "additions(500, 400)"
   ]
  },
  {
   "cell_type": "code",
   "execution_count": 5,
   "metadata": {},
   "outputs": [
    {
     "data": {
      "text/plain": [
       "50"
      ]
     },
     "execution_count": 5,
     "metadata": {},
     "output_type": "execute_result"
    }
   ],
   "source": [
    "def multiply(num1, num2):\n",
    "    return num1*num2\n",
    "multiply(10, 5)"
   ]
  },
  {
   "cell_type": "code",
   "execution_count": 8,
   "metadata": {},
   "outputs": [
    {
     "name": "stdout",
     "output_type": "stream",
     "text": [
      "The cutest dog is Kitty\n"
     ]
    }
   ],
   "source": [
    "def my_function(*dogs):\n",
    "    print(\"The cutest dog is \" + dogs[2])\n",
    "my_function(\"Spider\", \"Danger\", \"Kitty\")"
   ]
  },
  {
   "cell_type": "code",
   "execution_count": 2,
   "metadata": {},
   "outputs": [
    {
     "name": "stdout",
     "output_type": "stream",
     "text": [
      "The calculated values is 243\n"
     ]
    }
   ],
   "source": [
    "def calculator():\n",
    "    number = 3\n",
    "    number = int(number)\n",
    "    number1 = 5\n",
    "    number1 = int(number1)\n",
    "    \n",
    "    exp = number**number1\n",
    "    print(\"The calculated values is\", exp)\n",
    "    \n",
    "calculator()\n"
   ]
  }
 ],
 "metadata": {
  "kernelspec": {
   "display_name": "Python 3",
   "language": "python",
   "name": "python3"
  },
  "language_info": {
   "codemirror_mode": {
    "name": "ipython",
    "version": 3
   },
   "file_extension": ".py",
   "mimetype": "text/x-python",
   "name": "python",
   "nbconvert_exporter": "python",
   "pygments_lexer": "ipython3",
   "version": "3.12.2"
  }
 },
 "nbformat": 4,
 "nbformat_minor": 2
}
