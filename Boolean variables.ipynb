{
 "cells": [
  {
   "cell_type": "code",
   "execution_count": 1,
   "id": "f7170049-168e-492d-9a6b-bb457165bc6c",
   "metadata": {},
   "outputs": [
    {
     "name": "stdout",
     "output_type": "stream",
     "text": [
      "True\n"
     ]
    }
   ],
   "source": [
    "print(10>9) #Checking if the expression it is true or false"
   ]
  },
  {
   "cell_type": "code",
   "execution_count": 2,
   "id": "b643d6b5-7f2c-4744-8a04-a11a4ee696d7",
   "metadata": {},
   "outputs": [
    {
     "name": "stdout",
     "output_type": "stream",
     "text": [
      "False\n"
     ]
    }
   ],
   "source": [
    "print(12<9) "
   ]
  },
  {
   "cell_type": "code",
   "execution_count": 4,
   "id": "7d59beca-e1c2-4575-8eb0-842564f915d0",
   "metadata": {},
   "outputs": [
    {
     "name": "stdout",
     "output_type": "stream",
     "text": [
      "True\n"
     ]
    }
   ],
   "source": [
    "print(20>19)"
   ]
  },
  {
   "cell_type": "code",
   "execution_count": 6,
   "id": "7c31fe50-4138-4b05-b36a-e8f1135cf80c",
   "metadata": {},
   "outputs": [
    {
     "name": "stdout",
     "output_type": "stream",
     "text": [
      "True\n"
     ]
    }
   ],
   "source": [
    "print(100>50)"
   ]
  },
  {
   "cell_type": "code",
   "execution_count": 7,
   "id": "4a8c3f46-dc66-4465-a3bb-6a6813196ffe",
   "metadata": {},
   "outputs": [
    {
     "name": "stdout",
     "output_type": "stream",
     "text": [
      "False\n"
     ]
    }
   ],
   "source": [
    "print(10==9)"
   ]
  },
  {
   "cell_type": "code",
   "execution_count": null,
   "id": "e6f2de48-3bb6-44d3-a70d-b526fbddacbb",
   "metadata": {},
   "outputs": [],
   "source": []
  }
 ],
 "metadata": {
  "kernelspec": {
   "display_name": "Python 3 (ipykernel)",
   "language": "python",
   "name": "python3"
  },
  "language_info": {
   "codemirror_mode": {
    "name": "ipython",
    "version": 3
   },
   "file_extension": ".py",
   "mimetype": "text/x-python",
   "name": "python",
   "nbconvert_exporter": "python",
   "pygments_lexer": "ipython3",
   "version": "3.12.2"
  }
 },
 "nbformat": 4,
 "nbformat_minor": 5
}
